{
 "cells": [
  {
   "cell_type": "markdown",
   "id": "efede35c",
   "metadata": {},
   "source": [
    "#### Version 1"
   ]
  },
  {
   "cell_type": "code",
   "execution_count": null,
   "id": "50fea934",
   "metadata": {},
   "outputs": [],
   "source": [
    "p1 = input(\"P1 your move: \")\n",
    "p2 = input(\"P2 your move: \")\n",
    "\n",
    "while True:\n",
    "    if (p1 not in [\"paper\", \"rock\", \"scissors\"]) or (p2 not in [\"paper\", \"rock\", \"scissors\"]):\n",
    "            print(\"please choose from: 'paper', 'rock' or 'scissors'\")\n",
    "            p1 = input(\"P1 your move: \")\n",
    "            p2 = input(\"P2 your move: \")\n",
    "    else:\n",
    "        break\n",
    "\n",
    "if p1 == p2:\n",
    "    print(\"It is a tie\")\n",
    "elif p1 == \"paper\" and p2 == \"rock\":\n",
    "    print(\"P1 wins\")\n",
    "elif p1 == \"rock\" and p2 == \"scissors\":\n",
    "    print(\"P1 wins\")\n",
    "elif p1 == \"scissors\" and p2 == \"paper\":\n",
    "    print(\"P1 wins\")\n",
    "else:\n",
    "    print(\"P2 wins\")"
   ]
  },
  {
   "cell_type": "markdown",
   "id": "5385e8f3",
   "metadata": {},
   "source": [
    "#### Version 2"
   ]
  },
  {
   "cell_type": "code",
   "execution_count": 148,
   "id": "c3261e80",
   "metadata": {},
   "outputs": [
    {
     "name": "stdout",
     "output_type": "stream",
     "text": [
      "Your move: rock\n",
      "Computer played 'scissors'\n",
      "Player wins\n",
      "Your move: rock\n",
      "Computer played 'rock'\n",
      "It is a tie\n",
      "Your move: rock\n",
      "Computer played 'scissors'\n",
      "Player wins\n",
      "Your move: rock\n",
      "Computer played 'paper'\n",
      "Comp wins\n",
      "Your move: rock\n",
      "Computer played 'rock'\n",
      "It is a tie\n",
      "Your move: rock\n",
      "Computer played 'rock'\n",
      "It is a tie\n",
      "Your move: rock\n",
      "Computer played 'paper'\n",
      "Comp wins\n",
      "Your move: rock\n",
      "Computer played 'scissors'\n",
      "Player wins\n",
      "\n",
      "Final score: Player 3 : 2 Computer\n"
     ]
    }
   ],
   "source": [
    "import random\n",
    "\n",
    "choices = [\"paper\", \"rock\", \"scissors\"]\n",
    "\n",
    "player_wins = 0\n",
    "comp_wins = 0\n",
    "\n",
    "\n",
    "while player_wins <3 and comp_wins <3:\n",
    "\n",
    "        \n",
    "        comp = random.choice(choices) \n",
    "        player = input(\"Your move: \")\n",
    "        \n",
    "        while True:\n",
    "            if player not in choices:\n",
    "                print(\"Please choose from: 'paper', 'rock' or 'scissors'\\n\")\n",
    "                player = input(\"Your move: \")\n",
    "            else:\n",
    "                break\n",
    "\n",
    "        print(f\"Computer played '{comp}'\")\n",
    "\n",
    "        if player == comp:\n",
    "            print(\"It is a tie\")\n",
    "            \n",
    "        elif player == \"paper\" and comp == \"rock\":\n",
    "            print(\"Player wins\")\n",
    "            player_wins += 1\n",
    "            \n",
    "        elif player == \"rock\" and comp == \"scissors\":\n",
    "            print(\"Player wins\")\n",
    "            player_wins += 1\n",
    "            \n",
    "        elif player == \"scissors\" and comp == \"paper\":\n",
    "            print(\"Player wins\")\n",
    "            player_wins += 1\n",
    "            \n",
    "        else:\n",
    "            print(\"Comp wins\")\n",
    "            comp_wins += 1\n",
    "    \n",
    "print(f\"\\nFinal score: Player {player_wins} : {comp_wins} Computer\")"
   ]
  },
  {
   "cell_type": "code",
   "execution_count": null,
   "id": "c9d5a515",
   "metadata": {},
   "outputs": [],
   "source": []
  }
 ],
 "metadata": {
  "kernelspec": {
   "display_name": "Python 3 (ipykernel)",
   "language": "python",
   "name": "python3"
  },
  "language_info": {
   "codemirror_mode": {
    "name": "ipython",
    "version": 3
   },
   "file_extension": ".py",
   "mimetype": "text/x-python",
   "name": "python",
   "nbconvert_exporter": "python",
   "pygments_lexer": "ipython3",
   "version": "3.8.13"
  }
 },
 "nbformat": 4,
 "nbformat_minor": 5
}
