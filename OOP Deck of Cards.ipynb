{
 "cells": [
  {
   "cell_type": "code",
   "execution_count": null,
   "id": "318ad7c6",
   "metadata": {},
   "outputs": [],
   "source": [
    "import random\n",
    "\n",
    "class Card:\n",
    "    \n",
    "    def __init__(self, suit, value):\n",
    "        self.suit = suit\n",
    "        self.value = value\n",
    "        \n",
    "    def __repr__(self):\n",
    "        return f\"{self.value} of {self.suit}\"\n",
    "\n",
    "\n",
    "class Deck:\n",
    "    \n",
    "    def __init__(self):\n",
    "        suits = [\"Hearts\", \"Diamonds\", \"Clubs\", \"Spades\"]\n",
    "        values = [\"A\", \"2\", \"3\", \"4\", \"5\", \"6\", \"7\", \"8\", \"9\", \"10\", \"J\", \"Q\", \"K\"]\n",
    "        self.cards = []\n",
    "        \n",
    "        for suit in suits:\n",
    "            for value in values:\n",
    "                self.cards.append(Card(suit, value))\n",
    "        \n",
    "    def count(self):\n",
    "        return len(self.cards)\n",
    "    \n",
    "    def __repr__(self):\n",
    "        return f\"Deck of {self.count()} cards\"\n",
    "    \n",
    "    def _deal(self, number):\n",
    "        if self.count() == 0:\n",
    "            raise Exception(\"All cards have been dealt\")\n",
    "        elif number < self.count():\n",
    "            cards = self.cards[-number:]\n",
    "            self.cards = self.cards[:-number]\n",
    "            return cards\n",
    "        elif number > self.count():\n",
    "            cards = self.cards\n",
    "            self.cards = []\n",
    "            return cards\n",
    "    \n",
    "    def shuffle(self):\n",
    "        if self.count() == 52:\n",
    "            random.shuffle(self.cards)\n",
    "        else:\n",
    "            raise Exception(\"Only full decks can be shuffled\")\n",
    "\n",
    "    def deal_card(self):\n",
    "        return self._deal(1)\n",
    "              \n",
    "    def deal_hand(self, hand_size):\n",
    "        return self._deal(hand_size)"
   ]
  },
  {
   "cell_type": "code",
   "execution_count": null,
   "id": "197dffe2",
   "metadata": {},
   "outputs": [],
   "source": [
    "d = Deck()\n",
    "print(d)\n",
    "d.shuffle()\n",
    "print(d.deal_card())\n",
    "print(d.count())\n",
    "print(d.deal_hand(5))\n",
    "print(d.count())\n",
    "#d.shuffle()\n",
    "print(d._deal(52))\n",
    "print(d.count())\n",
    "print(d.deal_card())"
   ]
  }
 ],
 "metadata": {
  "kernelspec": {
   "display_name": "Python 3 (ipykernel)",
   "language": "python",
   "name": "python3"
  },
  "language_info": {
   "codemirror_mode": {
    "name": "ipython",
    "version": 3
   },
   "file_extension": ".py",
   "mimetype": "text/x-python",
   "name": "python",
   "nbconvert_exporter": "python",
   "pygments_lexer": "ipython3",
   "version": "3.8.13"
  }
 },
 "nbformat": 4,
 "nbformat_minor": 5
}
