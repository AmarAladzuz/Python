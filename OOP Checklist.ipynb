{
 "cells": [
  {
   "cell_type": "code",
   "execution_count": 3,
   "id": "4f8c7d9f",
   "metadata": {},
   "outputs": [],
   "source": [
    "class Checklist:\n",
    "    \n",
    "    def __init__(self, name):\n",
    "        self.name = name\n",
    "        self.tasks = []\n",
    "        \n",
    "    def __repr__(self):\n",
    "        return f\"Checklist: '{self.name}'\"\n",
    "    \n",
    "    def new_checklist(self, *args):\n",
    "        for arg in args:  \n",
    "            if arg not in self.tasks:\n",
    "                self.tasks.append(str(arg))\n",
    "            else:\n",
    "                print(f\"{arg} already there\")\n",
    "        \n",
    "    def count_tasks(self):\n",
    "        return f\"Total tasks: {len(self.tasks)}\"\n",
    "    \n",
    "    def display_tasks(self):\n",
    "        return self.tasks\n",
    "    \n",
    "    def delete_task(self, *args):\n",
    "        for arg in args:\n",
    "            if arg in self.tasks:\n",
    "                self.tasks.remove(arg)\n",
    "            else:\n",
    "                print(f\"There is no {arg} in checklist\")  # isto dodati args da ima i srediti kao za create\n",
    "    \n",
    "    def archive_task(self):\n",
    "        pass\n",
    "    \n",
    "    def complete_task(self):\n",
    "        pass"
   ]
  },
  {
   "cell_type": "code",
   "execution_count": 4,
   "id": "61cb7a36",
   "metadata": {},
   "outputs": [
    {
     "name": "stdout",
     "output_type": "stream",
     "text": [
      "Checklist: 'House checklist'\n",
      "['clean my room', 'buy potatoes']\n",
      "clean my room already there\n",
      "buy potatoes already there\n",
      "clean my room already there\n",
      "['clean my room', 'buy potatoes', 'pay bills']\n",
      "pay bills already there\n",
      "['clean my room', 'buy potatoes', 'pay bills', 'repair the chair']\n"
     ]
    }
   ],
   "source": [
    "x = Checklist(\"House checklist\")\n",
    "print(x)\n",
    "x.new_checklist(\"clean my room\", \"buy potatoes\")\n",
    "print(x.display_tasks())\n",
    "x.new_checklist(\"clean my room\", \"buy potatoes\") #ne vrati mi da je i krompir vec tu\n",
    "x.new_checklist(\"pay bills\", \"clean my room\") #ovde je ok dodao prvi, drugi vratio da je vec tu\n",
    "print(x.display_tasks())\n",
    "x.new_checklist(\"pay bills\", \"repair the chair\") #ovde ok izbaci da je pay bills vec tu, ali ne doda onda repair the chair\n",
    "print(x.display_tasks())"
   ]
  },
  {
   "cell_type": "code",
   "execution_count": null,
   "id": "4c7416d1",
   "metadata": {},
   "outputs": [],
   "source": []
  }
 ],
 "metadata": {
  "kernelspec": {
   "display_name": "Python 3 (ipykernel)",
   "language": "python",
   "name": "python3"
  },
  "language_info": {
   "codemirror_mode": {
    "name": "ipython",
    "version": 3
   },
   "file_extension": ".py",
   "mimetype": "text/x-python",
   "name": "python",
   "nbconvert_exporter": "python",
   "pygments_lexer": "ipython3",
   "version": "3.8.13"
  }
 },
 "nbformat": 4,
 "nbformat_minor": 5
}
