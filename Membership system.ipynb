{
 "cells": [
  {
   "cell_type": "code",
   "execution_count": 48,
   "id": "e5a5efa1",
   "metadata": {},
   "outputs": [],
   "source": [
    "from datetime import timedelta, date\n",
    "\n",
    "class Member:\n",
    "    \n",
    "    # enters new member info into card system \n",
    "    def __init__(self, first_name, last_name, age, adress, phone_number):\n",
    "        self.first_name = first_name \n",
    "        self.last_name = last_name \n",
    "        self.age = age\n",
    "        self.adress = adress \n",
    "        self.phone_number = phone_number\n",
    "        self.valid_through = date.today()\n",
    "        \n",
    "    def __repr__(self):\n",
    "        return f\"{self.first_name} {self.last_name}({self.age}), {self.adress}, {self.phone_number}, Valid through: {self.valid_through}\"\n",
    "                              \n",
    "    # should renew subscription; if still has valid days should add 30 after that, else add on the day of renewal\n",
    "    def renew(self):  \n",
    "        if self.valid_through >= date.today():\n",
    "            self.valid_through += timedelta(days = 30)\n",
    "        else:\n",
    "            self.valid_through = date.today() + timedelta(days = 30)\n",
    "   \n",
    "\n",
    "    def validity_checker(self):\n",
    "        if self.valid_through < date.today():\n",
    "            return \"Your membership expired. Please renew\"\n",
    "        elif self.valid_through == date.today():\n",
    "            return \"Your membership expires today\"\n",
    "        else:\n",
    "            return \"You're good to go\"\n",
    "        \n",
    "    \n",
    "    def update_info(self):\n",
    "        pass\n",
    "\n",
    "    \n",
    "    def delete_member(self):\n",
    "        pass\n",
    "    \n",
    "    "
   ]
  },
  {
   "cell_type": "code",
   "execution_count": 51,
   "id": "4dfdd8f7",
   "metadata": {},
   "outputs": [
    {
     "name": "stdout",
     "output_type": "stream",
     "text": [
      "Amar Aladžuz(24), Nedima Filipovića 12, 062573395, Valid through: 2022-07-02\n",
      "2022-08-31\n",
      "2022-08-31\n",
      "60 days, 0:00:00\n"
     ]
    }
   ],
   "source": [
    "card1 = Member(\"Amar\", \"Aladžuz\", 24, \"Nedima Filipovića 12\", \"062573395\")\n",
    "print(card1)\n",
    "print(m1.valid_through)\n",
    "card1.renew()\n",
    "print(m1.valid_through)\n",
    "card1.renew()\n",
    "print(m1.valid_through)\n",
    "\n",
    "\n",
    "\n"
   ]
  },
  {
   "cell_type": "code",
   "execution_count": null,
   "id": "98967a4f",
   "metadata": {},
   "outputs": [],
   "source": []
  },
  {
   "cell_type": "code",
   "execution_count": null,
   "id": "2b2f8cc0",
   "metadata": {},
   "outputs": [],
   "source": []
  }
 ],
 "metadata": {
  "kernelspec": {
   "display_name": "Python 3 (ipykernel)",
   "language": "python",
   "name": "python3"
  },
  "language_info": {
   "codemirror_mode": {
    "name": "ipython",
    "version": 3
   },
   "file_extension": ".py",
   "mimetype": "text/x-python",
   "name": "python",
   "nbconvert_exporter": "python",
   "pygments_lexer": "ipython3",
   "version": "3.8.13"
  }
 },
 "nbformat": 4,
 "nbformat_minor": 5
}
