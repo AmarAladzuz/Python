{
 "cells": [
  {
   "cell_type": "code",
   "execution_count": null,
   "id": "18d2429a",
   "metadata": {},
   "outputs": [],
   "source": [
    "import random\n",
    "\n",
    "comp = random.randint(1,10)\n",
    "\n",
    "guess_count = 0\n",
    "\n",
    "\n",
    "while True:\n",
    "    \n",
    "    answer = int(input(\"Guess the number: \"))\n",
    "    guess_count += 1\n",
    "   \n",
    "\n",
    "    if  guess_count == 3:\n",
    "        print(\"\\nYou ran out of luck. Bummer\")\n",
    "        play_again = input(\"\\nPlay again? (y/n): \")\n",
    "        \n",
    "        if play_again == \"y\":\n",
    "            comp = random.randint(1,10)\n",
    "            guess_count = 0\n",
    "\n",
    "        else:\n",
    "            print(\"Thank you for playing\")\n",
    "            break\n",
    "\n",
    "    elif answer > comp:\n",
    "        print(\"\\nTry lower\")  \n",
    "\n",
    "    elif answer < comp:\n",
    "        print(\"\\nTry higher\")\n",
    "\n",
    "    elif answer == comp:\n",
    "        print(\"\\nGood job. You woooon\")\n",
    "\n",
    "        play_again = input(\"\\nPlay again? (y/n): \")\n",
    "\n",
    "        if play_again == \"y\":\n",
    "            comp = random.randint(1,10)\n",
    "            guess_count = 0\n",
    "\n",
    "        else:\n",
    "            print(\"Okay, thank you for playing. Bye\")\n",
    "            break"
   ]
  }
 ],
 "metadata": {
  "kernelspec": {
   "display_name": "Python 3 (ipykernel)",
   "language": "python",
   "name": "python3"
  },
  "language_info": {
   "codemirror_mode": {
    "name": "ipython",
    "version": 3
   },
   "file_extension": ".py",
   "mimetype": "text/x-python",
   "name": "python",
   "nbconvert_exporter": "python",
   "pygments_lexer": "ipython3",
   "version": "3.8.13"
  }
 },
 "nbformat": 4,
 "nbformat_minor": 5
}
