{
 "cells": [
  {
   "cell_type": "code",
   "execution_count": 14,
   "id": "6b0d8d2f",
   "metadata": {},
   "outputs": [],
   "source": [
    "from datetime import timedelta, date\n",
    "\n",
    "class Member:\n",
    "    \n",
    "    total_members = 0\n",
    "    all_members = []\n",
    "    \n",
    "    # enters new member info into card system \n",
    "    def __init__(self, first_name, last_name, age, adress, phone_number):\n",
    "        self.first_name = first_name \n",
    "        self.last_name = last_name \n",
    "        self.age = age\n",
    "        self.adress = adress \n",
    "        self.phone_number = phone_number\n",
    "        self.valid_through = date.today()\n",
    "        \n",
    "        new_member = {\n",
    "            \"full name\" : self.first_name + \" \" + self.last_name, \n",
    "            \"age\" : self.age, \n",
    "            \"adress\" : self.adress, \n",
    "            \"phone number\" : self.phone_number\n",
    "        }\n",
    "        \n",
    "        if new_member not in Member.all_members:\n",
    "            Member.all_members.append(new_member)\n",
    "            Member.total_members +=1\n",
    "            print(f\"Successfully added {self.first_name} {self.last_name}\")\n",
    "        else:\n",
    "            print(f\"{self.first_name} {self.last_name} already in system\")\n",
    "        \n",
    "        \n",
    "    def __repr__(self):\n",
    "        return f\"{self.first_name} {self.last_name}({self.age}), {self.adress}, {self.phone_number}, Valid through: {self.valid_through}\"\n",
    "                              \n",
    "    # should renew subscription; if still has valid days should add 30 after that, else add on the day of renewal\n",
    "    def renew(self):  \n",
    "        if self.valid_through >= date.today():\n",
    "            self.valid_through += timedelta(days = 30)\n",
    "        else:\n",
    "            self.valid_through = date.today() + timedelta(days = 30)\n",
    "   \n",
    "    #cheks if membership is valid\n",
    "    def validity_checker(self):\n",
    "        if self.valid_through < date.today():\n",
    "            return \"Your membership expired. Please renew\"\n",
    "        elif self.valid_through == date.today():\n",
    "            return \"Your membership expires today\"\n",
    "        else:\n",
    "            return \"You're good to go\"\n",
    "        \n",
    "\n",
    "    # deletes member from all_members by passing his full name\n",
    "    @classmethod\n",
    "    def delete_member(cls, full_name_to_remove):\n",
    "        for index, dic in enumerate(Member.all_members):\n",
    "            if dic[\"full name\"] == full_name_to_remove:\n",
    "                Member.all_members.pop(index)\n",
    "                Member.total_members -= 1\n",
    "    \n",
    "     \n",
    "    def update_info(self):\n",
    "        pass   "
   ]
  },
  {
   "cell_type": "code",
   "execution_count": 15,
   "id": "be1bb84d",
   "metadata": {},
   "outputs": [
    {
     "name": "stdout",
     "output_type": "stream",
     "text": [
      "Successfully added Milorad Dodik\n",
      "Successfully added Amar Aladžuz\n",
      "Successfully added Bakir Izetbegović\n",
      "Successfully added Khabin Nurmagomedov\n",
      "Successfully added Dino Merlin\n",
      "Successfully added Izet Fazlinović\n",
      "Successfully added John Jones\n"
     ]
    }
   ],
   "source": [
    "m1 = Member(\"Milorad\", \"Dodik\", 24, \"adress1\", \"555333\")\n",
    "m2 = Member(\"Amar\", \"Aladžuz\", 24, \"adress1\", \"555333\")\n",
    "m3 = Member(\"Bakir\", \"Izetbegović\", 24, \"adress1\", \"555333\")\n",
    "m4 = Member(\"Khabin\", \"Nurmagomedov\", 24, \"adress1\", \"555333\")\n",
    "m5 = Member(\"Dino\", \"Merlin\", 24, \"adress1\", \"555333\")\n",
    "m6 = Member(\"Izet\", \"Fazlinović\", 24, \"adress1\", \"555333\")\n",
    "m7 = Member(\"John\", \"Jones\", 99, \"adress2\", \"123456\")"
   ]
  },
  {
   "cell_type": "code",
   "execution_count": 16,
   "id": "84e14404",
   "metadata": {},
   "outputs": [
    {
     "name": "stdout",
     "output_type": "stream",
     "text": [
      "Milorad Dodik already in system\n"
     ]
    }
   ],
   "source": [
    "m8 = Member(\"Milorad\", \"Dodik\", 24, \"adress1\", \"555333\")"
   ]
  },
  {
   "cell_type": "code",
   "execution_count": 17,
   "id": "a4c5fd40",
   "metadata": {},
   "outputs": [
    {
     "name": "stdout",
     "output_type": "stream",
     "text": [
      "Milorad Dodik(24), adress1, 555333, Valid through: 2022-07-03\n"
     ]
    },
    {
     "data": {
      "text/plain": [
       "'Your membership expires today'"
      ]
     },
     "execution_count": 17,
     "metadata": {},
     "output_type": "execute_result"
    }
   ],
   "source": [
    "print(m1)\n",
    "m1.validity_checker()"
   ]
  },
  {
   "cell_type": "code",
   "execution_count": 18,
   "id": "d4398f16",
   "metadata": {},
   "outputs": [
    {
     "name": "stdout",
     "output_type": "stream",
     "text": [
      "Milorad Dodik(24), adress1, 555333, Valid through: 2022-08-02\n"
     ]
    },
    {
     "data": {
      "text/plain": [
       "\"You're good to go\""
      ]
     },
     "execution_count": 18,
     "metadata": {},
     "output_type": "execute_result"
    }
   ],
   "source": [
    "m1.renew()\n",
    "print(m1)\n",
    "m1.validity_checker()"
   ]
  },
  {
   "cell_type": "code",
   "execution_count": 19,
   "id": "70acb315",
   "metadata": {},
   "outputs": [
    {
     "name": "stdout",
     "output_type": "stream",
     "text": [
      "7\n",
      "6\n"
     ]
    }
   ],
   "source": [
    "print(Member.total_members)\n",
    "Member.delete_member(\"Milorad Dodik\")\n",
    "print(Member.total_members)"
   ]
  },
  {
   "cell_type": "code",
   "execution_count": 20,
   "id": "d99e30bd",
   "metadata": {},
   "outputs": [
    {
     "name": "stdout",
     "output_type": "stream",
     "text": [
      "[{'full name': 'Amar Aladžuz', 'age': 24, 'adress': 'adress1', 'phone number': '555333'}, {'full name': 'Bakir Izetbegović', 'age': 24, 'adress': 'adress1', 'phone number': '555333'}, {'full name': 'Khabin Nurmagomedov', 'age': 24, 'adress': 'adress1', 'phone number': '555333'}, {'full name': 'Dino Merlin', 'age': 24, 'adress': 'adress1', 'phone number': '555333'}, {'full name': 'Izet Fazlinović', 'age': 24, 'adress': 'adress1', 'phone number': '555333'}, {'full name': 'John Jones', 'age': 99, 'adress': 'adress2', 'phone number': '123456'}]\n"
     ]
    }
   ],
   "source": [
    "print(Member.all_members)"
   ]
  },
  {
   "cell_type": "code",
   "execution_count": null,
   "id": "983cf0dc",
   "metadata": {},
   "outputs": [],
   "source": []
  }
 ],
 "metadata": {
  "kernelspec": {
   "display_name": "Python 3 (ipykernel)",
   "language": "python",
   "name": "python3"
  },
  "language_info": {
   "codemirror_mode": {
    "name": "ipython",
    "version": 3
   },
   "file_extension": ".py",
   "mimetype": "text/x-python",
   "name": "python",
   "nbconvert_exporter": "python",
   "pygments_lexer": "ipython3",
   "version": "3.8.13"
  }
 },
 "nbformat": 4,
 "nbformat_minor": 5
}
